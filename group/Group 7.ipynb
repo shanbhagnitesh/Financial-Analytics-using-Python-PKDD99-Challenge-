{
 "cells": [
  {
   "cell_type": "markdown",
   "metadata": {},
   "source": [
    "# FINANCIAL PROGRAMMING - IÉSEG, Lille - MBD 2018-2019\n",
    "## Group Project By : Nitesh Shanbhag, Manju Nagaraj Rudrappa, Lucas Bonnett"
   ]
  },
  {
   "cell_type": "markdown",
   "metadata": {},
   "source": [
    "#### This Project is to create a basetable for the PKDD'99 Discovery Challenge\n",
    "\n",
    "#### Basically the bank wants to improve the Services and distinguish more closely on who is a good client (to offer additional services) & who is a bad client (whom to watch carefully to minimize the bank loses).\n",
    "\n",
    "#### The bank has provided data about their clients, the accounts (transactions within several months), the loans already granted, the credit cards issued. The below Basetables will help bank managers improve their understanding of customers and seek specific actions to improve services.\n",
    "\n",
    "\n",
    "#### Final Client Basetable : Client Characteristics which includes 1 row per Client\n"
   ]
  },
  {
   "cell_type": "markdown",
   "metadata": {},
   "source": [
    "##### Importing Packages :"
   ]
  },
  {
   "cell_type": "code",
   "execution_count": 19,
   "metadata": {},
   "outputs": [],
   "source": [
    "# Import libraries\n",
    "import pandas as pd\n",
    "from datetime import datetime\n",
    "import numpy as np\n",
    "import matplotlib.pyplot as plt\n",
    "plt.style.use('seaborn-whitegrid')\n",
    "import numpy as np\n"
   ]
  },
  {
   "cell_type": "markdown",
   "metadata": {},
   "source": [
    "##### Path of Input Datasets :"
   ]
  },
  {
   "cell_type": "code",
   "execution_count": 20,
   "metadata": {},
   "outputs": [],
   "source": [
    "path = \"C:\\\\Users\\\\mrudrappa\\\\Desktop\\\\python group assignment\\\\MBD2018_FP_GroupAssignment_FinancialData\\\\data_berka\\\\\""
   ]
  },
  {
   "cell_type": "markdown",
   "metadata": {},
   "source": [
    "##### Import Datasets :"
   ]
  },
  {
   "cell_type": "code",
   "execution_count": 21,
   "metadata": {},
   "outputs": [
    {
     "name": "stderr",
     "output_type": "stream",
     "text": [
      "C:\\ProgramData\\Anaconda3\\lib\\site-packages\\IPython\\core\\interactiveshell.py:2785: DtypeWarning: Columns (8) have mixed types. Specify dtype option on import or set low_memory=False.\n",
      "  interactivity=interactivity, compiler=compiler, result=result)\n"
     ]
    }
   ],
   "source": [
    "client = pd.read_csv(path + \"client.asc\",sep=\";\")\n",
    "account = pd.read_csv(path + \"account.asc\",sep=\";\")\n",
    "disp = pd.read_csv(path + \"disp.asc\",sep=\";\")\n",
    "card = pd.read_csv(path + \"card.asc\",sep=\";\")\n",
    "district = pd.read_csv(path + \"district.asc\",sep=\";\")\n",
    "loan = pd.read_csv(path + \"loan.asc\",sep=\";\")\n",
    "order = pd.read_csv(path + \"order.asc\",sep=\";\")\n",
    "trans = pd.read_csv(path + \"trans.asc\",sep=\";\")\n"
   ]
  },
  {
   "cell_type": "markdown",
   "metadata": {},
   "source": [
    "###          DEMOGRAPHIC DATASET \n",
    "\n",
    "### This Dataset was cleaned with following steps \n",
    "### 1) Probability of the Client being an Entrepreneur was calculated\n",
    "### 2) Probability of the client commiting a Crime in year 1995/1996 was calculated\n",
    "### 3) Special Characters in the values were replaced with mean of the other valid values of that columns.\n",
    "### 4) Objects were converted to numeric.\n"
   ]
  },
  {
   "cell_type": "code",
   "execution_count": 22,
   "metadata": {},
   "outputs": [
    {
     "name": "stdout",
     "output_type": "stream",
     "text": [
      "     count           mean            std       min       25%       50%  \\\n",
      "A1    77.0      39.000000      22.371857      1.00     20.00      39.0   \n",
      "A4    77.0  133884.896104  136913.464909  42821.00  85852.00  108871.0   \n",
      "A5    77.0      48.623377      32.741829      0.00     22.00      49.0   \n",
      "A6    77.0      24.324675      12.780991      0.00     16.00      25.0   \n",
      "A7    77.0       6.272727       4.015222      0.00      4.00       6.0   \n",
      "A8    77.0       1.727273       1.008338      0.00      1.00       2.0   \n",
      "A9    77.0       6.259740       2.435497      1.00      5.00       6.0   \n",
      "A10   77.0      63.035065      16.221727     33.90     51.90      59.8   \n",
      "A11   77.0    9031.675325     790.202347   8110.00   8512.00    8814.0   \n",
      "A13   77.0       3.787013       1.908480      0.43      2.31       3.6   \n",
      "A14   77.0     116.129870      16.608773     81.00    105.00     113.0   \n",
      "A16   77.0    5030.831169   11270.796786    888.00   2122.00    3040.0   \n",
      "\n",
      "           75%        max  \n",
      "A1       58.00       77.0  \n",
      "A4   139012.00  1204953.0  \n",
      "A5       71.00      151.0  \n",
      "A6       32.00       70.0  \n",
      "A7        8.00       20.0  \n",
      "A8        2.00        5.0  \n",
      "A9        8.00       11.0  \n",
      "A10      73.50      100.0  \n",
      "A11    9317.00    12541.0  \n",
      "A13       4.79        9.4  \n",
      "A14     126.00      167.0  \n",
      "A16    4595.00    99107.0  \n"
     ]
    }
   ],
   "source": [
    "# summary of district \n",
    "summary = district.describe()    \n",
    "summary = summary.transpose() \n",
    "print(summary) \n"
   ]
  },
  {
   "cell_type": "code",
   "execution_count": 23,
   "metadata": {},
   "outputs": [
    {
     "data": {
      "text/html": [
       "<div>\n",
       "<style scoped>\n",
       "    .dataframe tbody tr th:only-of-type {\n",
       "        vertical-align: middle;\n",
       "    }\n",
       "\n",
       "    .dataframe tbody tr th {\n",
       "        vertical-align: top;\n",
       "    }\n",
       "\n",
       "    .dataframe thead th {\n",
       "        text-align: right;\n",
       "    }\n",
       "</style>\n",
       "<table border=\"1\" class=\"dataframe\">\n",
       "  <thead>\n",
       "    <tr style=\"text-align: right;\">\n",
       "      <th></th>\n",
       "      <th>A1</th>\n",
       "      <th>A2</th>\n",
       "      <th>A3</th>\n",
       "      <th>A4</th>\n",
       "      <th>A5</th>\n",
       "      <th>A6</th>\n",
       "      <th>A7</th>\n",
       "      <th>A8</th>\n",
       "      <th>A9</th>\n",
       "      <th>A10</th>\n",
       "      <th>A11</th>\n",
       "      <th>A12</th>\n",
       "      <th>A13</th>\n",
       "      <th>A14</th>\n",
       "      <th>A15</th>\n",
       "      <th>A16</th>\n",
       "    </tr>\n",
       "  </thead>\n",
       "  <tbody>\n",
       "    <tr>\n",
       "      <th>0</th>\n",
       "      <td>1</td>\n",
       "      <td>Hl.m. Praha</td>\n",
       "      <td>Prague</td>\n",
       "      <td>1204953</td>\n",
       "      <td>0</td>\n",
       "      <td>0</td>\n",
       "      <td>0</td>\n",
       "      <td>1</td>\n",
       "      <td>1</td>\n",
       "      <td>100.0</td>\n",
       "      <td>12541</td>\n",
       "      <td>0.29</td>\n",
       "      <td>0.43</td>\n",
       "      <td>167</td>\n",
       "      <td>85677</td>\n",
       "      <td>99107</td>\n",
       "    </tr>\n",
       "    <tr>\n",
       "      <th>1</th>\n",
       "      <td>2</td>\n",
       "      <td>Benesov</td>\n",
       "      <td>central Bohemia</td>\n",
       "      <td>88884</td>\n",
       "      <td>80</td>\n",
       "      <td>26</td>\n",
       "      <td>6</td>\n",
       "      <td>2</td>\n",
       "      <td>5</td>\n",
       "      <td>46.7</td>\n",
       "      <td>8507</td>\n",
       "      <td>1.67</td>\n",
       "      <td>1.85</td>\n",
       "      <td>132</td>\n",
       "      <td>2159</td>\n",
       "      <td>2674</td>\n",
       "    </tr>\n",
       "    <tr>\n",
       "      <th>2</th>\n",
       "      <td>3</td>\n",
       "      <td>Beroun</td>\n",
       "      <td>central Bohemia</td>\n",
       "      <td>75232</td>\n",
       "      <td>55</td>\n",
       "      <td>26</td>\n",
       "      <td>4</td>\n",
       "      <td>1</td>\n",
       "      <td>5</td>\n",
       "      <td>41.7</td>\n",
       "      <td>8980</td>\n",
       "      <td>1.95</td>\n",
       "      <td>2.21</td>\n",
       "      <td>111</td>\n",
       "      <td>2824</td>\n",
       "      <td>2813</td>\n",
       "    </tr>\n",
       "    <tr>\n",
       "      <th>3</th>\n",
       "      <td>4</td>\n",
       "      <td>Kladno</td>\n",
       "      <td>central Bohemia</td>\n",
       "      <td>149893</td>\n",
       "      <td>63</td>\n",
       "      <td>29</td>\n",
       "      <td>6</td>\n",
       "      <td>2</td>\n",
       "      <td>6</td>\n",
       "      <td>67.4</td>\n",
       "      <td>9753</td>\n",
       "      <td>4.64</td>\n",
       "      <td>5.05</td>\n",
       "      <td>109</td>\n",
       "      <td>5244</td>\n",
       "      <td>5892</td>\n",
       "    </tr>\n",
       "    <tr>\n",
       "      <th>4</th>\n",
       "      <td>5</td>\n",
       "      <td>Kolin</td>\n",
       "      <td>central Bohemia</td>\n",
       "      <td>95616</td>\n",
       "      <td>65</td>\n",
       "      <td>30</td>\n",
       "      <td>4</td>\n",
       "      <td>1</td>\n",
       "      <td>6</td>\n",
       "      <td>51.4</td>\n",
       "      <td>9307</td>\n",
       "      <td>3.85</td>\n",
       "      <td>4.43</td>\n",
       "      <td>118</td>\n",
       "      <td>2616</td>\n",
       "      <td>3040</td>\n",
       "    </tr>\n",
       "    <tr>\n",
       "      <th>5</th>\n",
       "      <td>6</td>\n",
       "      <td>Kutna Hora</td>\n",
       "      <td>central Bohemia</td>\n",
       "      <td>77963</td>\n",
       "      <td>60</td>\n",
       "      <td>23</td>\n",
       "      <td>4</td>\n",
       "      <td>2</td>\n",
       "      <td>4</td>\n",
       "      <td>51.5</td>\n",
       "      <td>8546</td>\n",
       "      <td>2.95</td>\n",
       "      <td>4.02</td>\n",
       "      <td>126</td>\n",
       "      <td>2640</td>\n",
       "      <td>3120</td>\n",
       "    </tr>\n",
       "  </tbody>\n",
       "</table>\n",
       "</div>"
      ],
      "text/plain": [
       "   A1           A2               A3       A4  A5  A6  A7  A8  A9    A10  \\\n",
       "0   1  Hl.m. Praha           Prague  1204953   0   0   0   1   1  100.0   \n",
       "1   2      Benesov  central Bohemia    88884  80  26   6   2   5   46.7   \n",
       "2   3       Beroun  central Bohemia    75232  55  26   4   1   5   41.7   \n",
       "3   4       Kladno  central Bohemia   149893  63  29   6   2   6   67.4   \n",
       "4   5        Kolin  central Bohemia    95616  65  30   4   1   6   51.4   \n",
       "5   6   Kutna Hora  central Bohemia    77963  60  23   4   2   4   51.5   \n",
       "\n",
       "     A11   A12   A13  A14    A15    A16  \n",
       "0  12541  0.29  0.43  167  85677  99107  \n",
       "1   8507  1.67  1.85  132   2159   2674  \n",
       "2   8980  1.95  2.21  111   2824   2813  \n",
       "3   9753  4.64  5.05  109   5244   5892  \n",
       "4   9307  3.85  4.43  118   2616   3040  \n",
       "5   8546  2.95  4.02  126   2640   3120  "
      ]
     },
     "execution_count": 23,
     "metadata": {},
     "output_type": "execute_result"
    }
   ],
   "source": [
    "# head \n",
    "district.head(6)\n"
   ]
  },
  {
   "cell_type": "code",
   "execution_count": 24,
   "metadata": {},
   "outputs": [],
   "source": [
    "# Rename the columns\n",
    "district = district.rename(columns={\"A1\":\"district_id\",\"A2\":\"district_name\",\"A3\":\"region\",\"A4\":\"no_of_inhabitants\",\n",
    "                         \"A5\":\"munci_lt_499\",\"A6\":\"munci_500_1999\",\"A7\":\"munci_2000_9999\",\n",
    "                         \"A8\":\"munci_gt_10000\",\"A9\":\"no_of_cities\",\"A10\":\"ratio_of_urban_inhab\",\n",
    "                         \"A11\":\"district_averagr_salary\",\"A12\":\"unemployement_rate_1995\",\"A13\":\"unemployement_rate_1996\",\n",
    "                         \"A14\":\"prob_enterpreneur\",\"A15\":\"prob_commited_crimes_1995\",\"A16\":\"prob_commited_crimes_1996\"})\n",
    "\n"
   ]
  },
  {
   "cell_type": "code",
   "execution_count": 25,
   "metadata": {},
   "outputs": [
    {
     "name": "stderr",
     "output_type": "stream",
     "text": [
      "C:\\ProgramData\\Anaconda3\\lib\\site-packages\\ipykernel_launcher.py:2: FutureWarning: convert_objects is deprecated.  To re-infer data dtypes for object columns, use DataFrame.infer_objects()\n",
      "For all other conversions use the data-type specific converters pd.to_datetime, pd.to_timedelta and pd.to_numeric.\n",
      "  \n"
     ]
    }
   ],
   "source": [
    "#converted objects to numeric \n",
    "district = district.convert_objects(convert_numeric =True)\n",
    "\n",
    "#fill nan values by mean\n",
    "district = district.fillna(district.mean())\n"
   ]
  },
  {
   "cell_type": "code",
   "execution_count": 26,
   "metadata": {},
   "outputs": [
    {
     "data": {
      "text/plain": [
       "district_id                    int64\n",
       "district_name                 object\n",
       "region                        object\n",
       "no_of_inhabitants              int64\n",
       "munci_lt_499                   int64\n",
       "munci_500_1999                 int64\n",
       "munci_2000_9999                int64\n",
       "munci_gt_10000                 int64\n",
       "no_of_cities                   int64\n",
       "ratio_of_urban_inhab         float64\n",
       "district_averagr_salary        int64\n",
       "unemployement_rate_1995      float64\n",
       "unemployement_rate_1996      float64\n",
       "prob_enterpreneur            float64\n",
       "prob_commited_crimes_1995    float64\n",
       "prob_commited_crimes_1996    float64\n",
       "dtype: object"
      ]
     },
     "execution_count": 26,
     "metadata": {},
     "output_type": "execute_result"
    }
   ],
   "source": [
    "#find the probabilities\n",
    "district[\"prob_enterpreneur\"] = district[\"prob_enterpreneur\"] / 1000\n",
    "district[\"prob_commited_crimes_1995\"] = district[\"prob_commited_crimes_1995\"] / district[\"no_of_inhabitants\"]\n",
    "district[\"prob_commited_crimes_1996\"] = district[\"prob_commited_crimes_1996\"] / district[\"no_of_inhabitants\"]\n",
    "\n",
    "# check the data types of variables\n",
    "district.dtypes                      \n",
    "                \n"
   ]
  },
  {
   "cell_type": "markdown",
   "metadata": {},
   "source": [
    "####        CLIENT DATASET :\n",
    "#### We have assumed the current year as 1999.\n",
    "#### 1) Transformed the Birth Number into Birth Date and Gender was derived\n",
    "#### 2)  Age and Agegroup was calculated.\n"
   ]
  },
  {
   "cell_type": "code",
   "execution_count": 27,
   "metadata": {},
   "outputs": [],
   "source": [
    "# Transform the birth day into year\n",
    "client['birth_year'] = client['birth_number'].transform(lambda bn: int('19' + str(bn)[:2]))\n",
    "\n",
    "# Transform the birth day into day\n",
    "client['birth_day'] = client['birth_number'].transform(lambda bn: int(str(bn)[4:6]))\n",
    "# Age \n",
    "client['age'] = 1999 - client['birth_year']\n",
    "\n",
    "# Age group\n",
    "client['age_group'] = client['age'] // 10 * 10\n"
   ]
  },
  {
   "cell_type": "code",
   "execution_count": 28,
   "metadata": {},
   "outputs": [],
   "source": [
    "# Function to extract birth month and gender\n",
    "def to_month_gender(birth_number):\n",
    "    \n",
    "    s = str(birth_number)\n",
    "    birth_month = int(s[2:4])\n",
    "    \n",
    "    if birth_month > 50:\n",
    "        gender = \"F\"\n",
    "        birth_month = birth_month - 50\n",
    "    else:\n",
    "        gender = 'M'\n",
    "        \n",
    "    return pd.Series({'birth_month':birth_month, 'gender':gender})\n",
    "\n",
    "client[['birth_month', 'gender']] = client['birth_number'].apply(to_month_gender)\n",
    "\n",
    "# derive variable birth date\n",
    "client['birth_date'] = client.apply(lambda row: datetime(row['birth_year'], row['birth_month'], row['birth_day']), axis=1)\n",
    "client['birth_date'] = pd.to_datetime(client['birth_date']).dt.date\n"
   ]
  },
  {
   "cell_type": "code",
   "execution_count": 29,
   "metadata": {},
   "outputs": [],
   "source": [
    "# drop unwanted columns\n",
    "client = client.drop(['birth_year', 'birth_number','birth_month','birth_day'], axis=1)\n"
   ]
  },
  {
   "cell_type": "markdown",
   "metadata": {},
   "source": [
    "####        CREDIT CARD DATASET :\n",
    "#### Date Issued was converted to Date Object.\n"
   ]
  },
  {
   "cell_type": "code",
   "execution_count": 30,
   "metadata": {},
   "outputs": [],
   "source": [
    "card['issued'] = pd.to_datetime(card['issued']).dt.date\n",
    "card = card.rename(columns = {\"type\":\"credit_card_type\",\"issued\":\"credit_card_issue_date\"})\n",
    "card['credit_card_issue__year'] = card['credit_card_issue_date'].transform(lambda bn: int(str(bn)[:4]))"
   ]
  },
  {
   "cell_type": "markdown",
   "metadata": {},
   "source": [
    "####        LOAN DATASET :\n",
    "#### 1) Date Issued was converted to Date Object.\n",
    "#### 2) Status values were changed into understandable Values."
   ]
  },
  {
   "cell_type": "code",
   "execution_count": 31,
   "metadata": {},
   "outputs": [],
   "source": [
    "#change the date format\n",
    "loan[['date']] = loan[['date']].applymap(str).applymap(lambda s: \"{}/{}/{}\".format(s[4:],s[2:4],s[0:2]))\n",
    "\n",
    "#drop loan id\n",
    "loan = loan.drop([\"loan_id\"], axis=1)\n",
    "\n",
    "# change the description of the field status \n",
    "loan['status'] = loan['status'].map({'A': 'Contract finished without Issue', 'B': 'Contract Finished Loan Not Paid'\n",
    "                                      , 'C': 'Contract Running ok so far', 'D' : 'Contract Running Debt'})\n",
    "# rename the columns\n",
    "loan = loan.rename(index=str, columns={\"date\": \"LoanIssuedDate\", \"amount\": \"LoanAmount\"\n",
    "                                       ,\"duration\": \"LoanDuration\",\"payments\": \"LoanPayment\",\"status\": \"LoanStatus\"})\n"
   ]
  },
  {
   "cell_type": "markdown",
   "metadata": {},
   "source": [
    "####        ORDER DATASET :\n",
    "####  1) Date Issued was converted to Date Object.\n",
    "####  2) K-symbol with nan or spaces were converted into Others\n",
    "####  3) Ksymbol was pivoted as columns(pivot) with Amount Values filled in it \n",
    "####       Overall One row per acount id was maintained"
   ]
  },
  {
   "cell_type": "code",
   "execution_count": 32,
   "metadata": {},
   "outputs": [
    {
     "data": {
      "text/plain": [
       "3758"
      ]
     },
     "execution_count": 32,
     "metadata": {},
     "output_type": "execute_result"
    }
   ],
   "source": [
    "order.count()\n",
    "order['account_to'].nunique()\n",
    "order = order.drop([\"order_id\"], axis=1)\n",
    "order = order.drop([\"bank_to\"], axis=1)\n",
    "order = order.drop([\"account_to\"], axis=1)\n",
    "order['k_symbol'].unique().tolist()\n",
    "\n",
    "\n",
    "order.loc[order['k_symbol'] == \" \", 'k_symbol'] = 'Other'\n",
    "\n",
    "\n",
    "order = order.pivot_table(index=['account_id'],columns='k_symbol',values='amount',fill_value=0)\n",
    "order.columns.name = None\n",
    "order = order.reset_index()\n",
    "\n",
    "\n",
    "order['account_id'].nunique()\n",
    "\n"
   ]
  },
  {
   "cell_type": "code",
   "execution_count": 33,
   "metadata": {},
   "outputs": [],
   "source": [
    "# As the Above is also equal to 3758 = Number of records in Order so that means all Account_id is unique.\n"
   ]
  },
  {
   "cell_type": "markdown",
   "metadata": {},
   "source": [
    "#### ACCOUNT DATASET                    \n",
    "#### 1) Length of Relationship was Derived as of 1999 with account opened year\n",
    "#### 2) Frequency values were mapped with understandable values\n"
   ]
  },
  {
   "cell_type": "code",
   "execution_count": 34,
   "metadata": {},
   "outputs": [],
   "source": [
    "\n",
    "# account year tofind length of relation\n",
    "account['account_created_year'] = account['date'].transform(lambda bn: int('19' + str(bn)[:2]))\n",
    "\n",
    "# length of relation\n",
    "account['length_of_relation'] = 1999 - account['account_created_year']\n",
    "\n",
    "account[['date']] = account[['date']].applymap(str).applymap(lambda s: \"{}/{}/{}\".format(s[2:4],s[4:],s[0:2]))\n",
    "\n",
    "account['frequency'].unique().tolist()\n",
    "account['frequency'] = account['frequency'].map({'POPLATEK MESICNE': 'Monthly Issuance',\n",
    "                                                 'POPLATEK TYDNE'  : 'Weekly Issuance'\n",
    "                                                 ,'POPLATEK PO OBRATU' : 'Issuance after Trans'})   \n",
    "    \n",
    "account = account.rename(index=str, columns={\"date\": \"AccountCreatedDate\"})\n",
    "\n",
    "\n",
    "\n"
   ]
  },
  {
   "cell_type": "markdown",
   "metadata": {},
   "source": [
    "####   TRANSACTION DATASET  : \n",
    "####   For the transaction Dataset the Values are converted in such a way to understand monthly behaviour of the \n",
    "####   Customer. \n",
    "####   Type and Operation was converted into Understable Values, VYBER Values from Type were converted into ###        Debit \n",
    "####   Type and Operation was taken as Column Values \n",
    "####   Average Month End Balances : \n",
    "####   Average Month end Balance of the acount over the period was calculated.\n",
    "####   Logic : Balance at each month end was found and Mean and Median of those values were found to get as values per account id .\n",
    "####   Here the Monthly all the different amounts are summed and after we get 1 row per month for each account id\n",
    "####   then Month wise averages are calculated. So we get an idea about his Monthly income Monthly expenditure ###   etc from that.\n",
    "####   Avg Monthly Savings were calculated as Avg_Credit - Avg_Debit\n"
   ]
  },
  {
   "cell_type": "code",
   "execution_count": 35,
   "metadata": {},
   "outputs": [],
   "source": [
    "trans = trans.drop([\"trans_id\"], axis=1)\n",
    "# Changing into Valid Dateformat\n",
    "trans[['date']] = trans[['date']].applymap(str).applymap(lambda s: \"{}/{}/{}\".format(s[2:4],s[4:],s[0:2]))\n",
    "# Dropping un neccesary details\n",
    "trans = trans.drop([\"account\"], axis=1)\n",
    "trans = trans.drop([\"bank\"], axis=1)\n",
    "#Changing Values to more understandle ones\n",
    "trans['type'] = trans['type'].map({'VYBER': \"Debit\",'PRIJEM':\"Credit\", 'VYDAJ':\"Debit\"})\n",
    "\n",
    "trans['operation'] = trans['operation'].map({'VYBER KARTOU' : \"Credit Card Withdrawal\",\n",
    "                                             'VKLAD'        : \"Credit In Cash\", \n",
    "                                             'PREVOD Z UCTU': \"Collection from another Bank\",\n",
    "                                             'VYBER'        : \"Withdrawal In Cash\",\n",
    "                                             'PREVOD NA UCET' : \"Remittance to another Bank\"})\n",
    "\n",
    "trans = trans.drop([\"k_symbol\"], axis=1)\n",
    "#Replacing nan with Other\n",
    "trans = trans.replace(np.nan, \"Other\")\n",
    "trans['amount1'] = trans.amount\n",
    "#Bringing the Type as Columns to calculate Average per month later\n",
    "trans = trans.pivot_table(index=['account_id','date','operation','balance','amount1'],columns='type',values='amount',fill_value=0)\n",
    "trans.columns.name = None\n",
    "trans = trans.reset_index()\n",
    "\n",
    "#Pivoting Operation also as columns\n",
    "\n",
    "trans = trans.pivot_table(index=['account_id','date','balance','Credit','Debit'],columns='operation',values='amount1',fill_value=0)\n",
    "trans.columns.name = None\n",
    "trans = trans.reset_index()\n"
   ]
  },
  {
   "cell_type": "markdown",
   "metadata": {},
   "source": [
    "#### Average Month End Balances \n",
    "#### Logic is For each month end to find the account Balances so from that we can get an idea about what are his savings at monthe ####  end for that month end row is only retained along with its balance and for that the Group by condition has been applied to get \n",
    "#### Mean and Median Balance at Month end.\n"
   ]
  },
  {
   "cell_type": "code",
   "execution_count": 36,
   "metadata": {},
   "outputs": [
    {
     "name": "stderr",
     "output_type": "stream",
     "text": [
      "C:\\ProgramData\\Anaconda3\\lib\\site-packages\\ipykernel_launcher.py:2: SettingWithCopyWarning: \n",
      "A value is trying to be set on a copy of a slice from a DataFrame.\n",
      "Try using .loc[row_indexer,col_indexer] = value instead\n",
      "\n",
      "See the caveats in the documentation: http://pandas.pydata.org/pandas-docs/stable/indexing.html#indexing-view-versus-copy\n",
      "  \n",
      "C:\\ProgramData\\Anaconda3\\lib\\site-packages\\ipykernel_launcher.py:3: SettingWithCopyWarning: \n",
      "A value is trying to be set on a copy of a slice from a DataFrame.\n",
      "Try using .loc[row_indexer,col_indexer] = value instead\n",
      "\n",
      "See the caveats in the documentation: http://pandas.pydata.org/pandas-docs/stable/indexing.html#indexing-view-versus-copy\n",
      "  This is separate from the ipykernel package so we can avoid doing imports until\n"
     ]
    }
   ],
   "source": [
    "transbalance = trans[['account_id', 'date', 'balance']]\n",
    "transbalance['monthyear']  = transbalance[['date']].applymap(str).applymap(lambda s: \"{}{}\".format(s[6:],s[0:2])) \n",
    "transbalance['day']  = transbalance[['date']].applymap(str).applymap(lambda s: \"{}\".format(s[3:5])) \n",
    "transbalance = transbalance.drop([\"date\"], axis=1)\n",
    "\n",
    "transbalance = transbalance.sort_values(['account_id', 'monthyear','day'], ascending=[True, True,False])\n",
    "\n",
    "def f(s):\n",
    "    s2 = pd.Series(0, index=s.index)\n",
    "    s2.iloc[-1] = 1\n",
    "    return s2\n",
    "\n",
    "transbalance[\"lastMark\"] = transbalance.groupby(['account_id','monthyear'])['day'].apply(f)\n",
    "\n",
    "transbalance = transbalance[transbalance.lastMark == 1]\n",
    "\n",
    "transbalance = transbalance.drop([\"monthyear\"], axis=1)\n",
    "transbalance = transbalance.drop([\"day\"], axis=1)\n",
    "transbalance = transbalance.drop([\"lastMark\"], axis=1)\n",
    "\n",
    "transbalance = transbalance.groupby('account_id', as_index=False).agg({'balance': ['mean', 'median']})\n",
    "\n",
    "transbalance.columns  = ['account_id','Balance_Mean_per_Month','Balance_Median_per_Month']\n",
    "\n"
   ]
  },
  {
   "cell_type": "code",
   "execution_count": 37,
   "metadata": {},
   "outputs": [],
   "source": [
    "transamounts = trans\n",
    "transamounts = transamounts.drop([\"balance\"], axis=1)\n",
    "\n",
    "\n",
    "transamounts['monthyear']  = transamounts[['date']].applymap(str).applymap(lambda s: \"{}{}\".format(s[6:],s[0:2])) \n",
    "transamounts = transamounts.drop([\"date\"], axis=1)\n",
    "\n",
    "transamounts = transamounts.sort_values(['account_id', 'monthyear'], ascending=[True, True])\n",
    "\n",
    "transamounts = transamounts.groupby(['account_id','monthyear']).sum().reset_index()\n",
    "\n",
    "transamounts = transamounts.drop([\"monthyear\"], axis=1)\n",
    "transamounts = transamounts.groupby(['account_id']).mean().reset_index()\n",
    "\n",
    "\n",
    "trans = pd.merge(transamounts,transbalance, on=['account_id'])\n",
    "\n"
   ]
  },
  {
   "cell_type": "code",
   "execution_count": 38,
   "metadata": {},
   "outputs": [],
   "source": [
    "# Rename columns\n",
    "trans = trans.rename(columns={\"Credit\":\"Avg_Monthly_Credit\",\"Debit\":\"Avg_Monthly_Debit\",\n",
    "                              \"Other\":\"Other_Transactions\",\"Balance_Mean_per_Month\":\"Avg_Monthly_Balance\",\n",
    "                              \"Median_Balance_per_Month\":\"Median_Monthly_Balance\"})\n",
    "\n"
   ]
  },
  {
   "cell_type": "code",
   "execution_count": 39,
   "metadata": {},
   "outputs": [],
   "source": [
    "# MONTHLY SAVINGS\n",
    "trans['Avg_Monthly_Savings'] =  trans[\"Avg_Monthly_Credit\"] - trans[\"Avg_Monthly_Debit\"]\n",
    "\n"
   ]
  },
  {
   "cell_type": "markdown",
   "metadata": {},
   "source": [
    "### Merging all Datasets\n"
   ]
  },
  {
   "cell_type": "code",
   "execution_count": 40,
   "metadata": {},
   "outputs": [],
   "source": [
    "client_disp = pd.merge(client, disp, on='client_id', how='left')\n",
    "\n",
    "client_district = pd.merge(client_disp, district, on='district_id', how='left')\n",
    "\n",
    "client_final = pd.merge(client_district, card, on='disp_id', how='left')\n",
    "\n",
    "account_trans = pd.merge(account, trans, on='account_id', how='left')\n",
    "\n",
    "account_loan = pd.merge(account_trans, loan, on='account_id', how='left')\n",
    "\n",
    "account_final = pd.merge(account_loan, order, on='account_id', how='left')\n",
    "\n",
    "Client_Base_Table = pd.merge(client_final, account_final, on='account_id', how='left')\n",
    "\n"
   ]
  },
  {
   "cell_type": "code",
   "execution_count": 41,
   "metadata": {},
   "outputs": [],
   "source": [
    "# drop disp_id\n",
    "disp = disp.drop(['disp_id'], axis=1)\n",
    "\n",
    "# split client id as owner client id and disponent client id making account id as unique\n",
    "disp = disp.pivot_table(index=['account_id'],columns='type',values='client_id',fill_value=0)\n",
    "disp.columns.name = None\n",
    "disp = disp.reset_index()\n"
   ]
  },
  {
   "cell_type": "code",
   "execution_count": 42,
   "metadata": {},
   "outputs": [],
   "source": [
    "\n",
    "\n",
    "\n",
    "# cleaning NAN values\n",
    "Client_Base_Table = Client_Base_Table.replace(np.nan, 0)     \n",
    "Client_Base_Table['LoanStatus'].replace([0],['Not Applicable'],inplace=True)\n",
    "Client_Base_Table['credit_card_type'].replace([0],['Not Applicable'],inplace=True)\n",
    "Client_Base_Table = Client_Base_Table.drop([\"district_id_x\"], axis=1)\n",
    "\n",
    "\n"
   ]
  },
  {
   "cell_type": "markdown",
   "metadata": {},
   "source": [
    "### Viewing Final Client BaseTable\n"
   ]
  },
  {
   "cell_type": "code",
   "execution_count": 44,
   "metadata": {},
   "outputs": [
    {
     "data": {
      "text/html": [
       "<div>\n",
       "<style scoped>\n",
       "    .dataframe tbody tr th:only-of-type {\n",
       "        vertical-align: middle;\n",
       "    }\n",
       "\n",
       "    .dataframe tbody tr th {\n",
       "        vertical-align: top;\n",
       "    }\n",
       "\n",
       "    .dataframe thead th {\n",
       "        text-align: right;\n",
       "    }\n",
       "</style>\n",
       "<table border=\"1\" class=\"dataframe\">\n",
       "  <thead>\n",
       "    <tr style=\"text-align: right;\">\n",
       "      <th></th>\n",
       "      <th>client_id</th>\n",
       "      <th>age</th>\n",
       "      <th>age_group</th>\n",
       "      <th>gender</th>\n",
       "      <th>birth_date</th>\n",
       "      <th>disp_id</th>\n",
       "      <th>account_id</th>\n",
       "      <th>type</th>\n",
       "      <th>district_name</th>\n",
       "      <th>region</th>\n",
       "      <th>...</th>\n",
       "      <th>LoanIssuedDate</th>\n",
       "      <th>LoanAmount</th>\n",
       "      <th>LoanDuration</th>\n",
       "      <th>LoanPayment</th>\n",
       "      <th>LoanStatus</th>\n",
       "      <th>LEASING</th>\n",
       "      <th>Other</th>\n",
       "      <th>POJISTNE</th>\n",
       "      <th>SIPO</th>\n",
       "      <th>UVER</th>\n",
       "    </tr>\n",
       "  </thead>\n",
       "  <tbody>\n",
       "    <tr>\n",
       "      <th>0</th>\n",
       "      <td>1</td>\n",
       "      <td>29</td>\n",
       "      <td>20</td>\n",
       "      <td>F</td>\n",
       "      <td>1970-12-13</td>\n",
       "      <td>1</td>\n",
       "      <td>1</td>\n",
       "      <td>OWNER</td>\n",
       "      <td>Pisek</td>\n",
       "      <td>south Bohemia</td>\n",
       "      <td>...</td>\n",
       "      <td>0</td>\n",
       "      <td>0.0</td>\n",
       "      <td>0.0</td>\n",
       "      <td>0.0</td>\n",
       "      <td>Not Applicable</td>\n",
       "      <td>0.0</td>\n",
       "      <td>0.0</td>\n",
       "      <td>0.0</td>\n",
       "      <td>2452.0</td>\n",
       "      <td>0.0</td>\n",
       "    </tr>\n",
       "    <tr>\n",
       "      <th>1</th>\n",
       "      <td>2</td>\n",
       "      <td>54</td>\n",
       "      <td>50</td>\n",
       "      <td>M</td>\n",
       "      <td>1945-02-04</td>\n",
       "      <td>2</td>\n",
       "      <td>2</td>\n",
       "      <td>OWNER</td>\n",
       "      <td>Hl.m. Praha</td>\n",
       "      <td>Prague</td>\n",
       "      <td>...</td>\n",
       "      <td>05/01/94</td>\n",
       "      <td>80952.0</td>\n",
       "      <td>24.0</td>\n",
       "      <td>3373.0</td>\n",
       "      <td>Contract finished without Issue</td>\n",
       "      <td>0.0</td>\n",
       "      <td>0.0</td>\n",
       "      <td>0.0</td>\n",
       "      <td>7266.0</td>\n",
       "      <td>3372.7</td>\n",
       "    </tr>\n",
       "    <tr>\n",
       "      <th>2</th>\n",
       "      <td>3</td>\n",
       "      <td>59</td>\n",
       "      <td>50</td>\n",
       "      <td>F</td>\n",
       "      <td>1940-10-09</td>\n",
       "      <td>3</td>\n",
       "      <td>2</td>\n",
       "      <td>DISPONENT</td>\n",
       "      <td>Hl.m. Praha</td>\n",
       "      <td>Prague</td>\n",
       "      <td>...</td>\n",
       "      <td>05/01/94</td>\n",
       "      <td>80952.0</td>\n",
       "      <td>24.0</td>\n",
       "      <td>3373.0</td>\n",
       "      <td>Contract finished without Issue</td>\n",
       "      <td>0.0</td>\n",
       "      <td>0.0</td>\n",
       "      <td>0.0</td>\n",
       "      <td>7266.0</td>\n",
       "      <td>3372.7</td>\n",
       "    </tr>\n",
       "    <tr>\n",
       "      <th>3</th>\n",
       "      <td>4</td>\n",
       "      <td>43</td>\n",
       "      <td>40</td>\n",
       "      <td>M</td>\n",
       "      <td>1956-12-01</td>\n",
       "      <td>4</td>\n",
       "      <td>3</td>\n",
       "      <td>OWNER</td>\n",
       "      <td>Kolin</td>\n",
       "      <td>central Bohemia</td>\n",
       "      <td>...</td>\n",
       "      <td>0</td>\n",
       "      <td>0.0</td>\n",
       "      <td>0.0</td>\n",
       "      <td>0.0</td>\n",
       "      <td>Not Applicable</td>\n",
       "      <td>0.0</td>\n",
       "      <td>327.0</td>\n",
       "      <td>3539.0</td>\n",
       "      <td>1135.0</td>\n",
       "      <td>0.0</td>\n",
       "    </tr>\n",
       "    <tr>\n",
       "      <th>4</th>\n",
       "      <td>5</td>\n",
       "      <td>39</td>\n",
       "      <td>30</td>\n",
       "      <td>F</td>\n",
       "      <td>1960-07-03</td>\n",
       "      <td>5</td>\n",
       "      <td>3</td>\n",
       "      <td>DISPONENT</td>\n",
       "      <td>Kolin</td>\n",
       "      <td>central Bohemia</td>\n",
       "      <td>...</td>\n",
       "      <td>0</td>\n",
       "      <td>0.0</td>\n",
       "      <td>0.0</td>\n",
       "      <td>0.0</td>\n",
       "      <td>Not Applicable</td>\n",
       "      <td>0.0</td>\n",
       "      <td>327.0</td>\n",
       "      <td>3539.0</td>\n",
       "      <td>1135.0</td>\n",
       "      <td>0.0</td>\n",
       "    </tr>\n",
       "    <tr>\n",
       "      <th>5</th>\n",
       "      <td>6</td>\n",
       "      <td>80</td>\n",
       "      <td>80</td>\n",
       "      <td>M</td>\n",
       "      <td>1919-09-22</td>\n",
       "      <td>6</td>\n",
       "      <td>4</td>\n",
       "      <td>OWNER</td>\n",
       "      <td>Pribram</td>\n",
       "      <td>central Bohemia</td>\n",
       "      <td>...</td>\n",
       "      <td>0</td>\n",
       "      <td>0.0</td>\n",
       "      <td>0.0</td>\n",
       "      <td>0.0</td>\n",
       "      <td>Not Applicable</td>\n",
       "      <td>0.0</td>\n",
       "      <td>0.0</td>\n",
       "      <td>0.0</td>\n",
       "      <td>1681.5</td>\n",
       "      <td>0.0</td>\n",
       "    </tr>\n",
       "  </tbody>\n",
       "</table>\n",
       "<p>6 rows × 53 columns</p>\n",
       "</div>"
      ],
      "text/plain": [
       "   client_id  age  age_group gender  birth_date  disp_id  account_id  \\\n",
       "0          1   29         20      F  1970-12-13        1           1   \n",
       "1          2   54         50      M  1945-02-04        2           2   \n",
       "2          3   59         50      F  1940-10-09        3           2   \n",
       "3          4   43         40      M  1956-12-01        4           3   \n",
       "4          5   39         30      F  1960-07-03        5           3   \n",
       "5          6   80         80      M  1919-09-22        6           4   \n",
       "\n",
       "        type district_name           region   ...    LoanIssuedDate  \\\n",
       "0      OWNER         Pisek    south Bohemia   ...                 0   \n",
       "1      OWNER   Hl.m. Praha           Prague   ...          05/01/94   \n",
       "2  DISPONENT   Hl.m. Praha           Prague   ...          05/01/94   \n",
       "3      OWNER         Kolin  central Bohemia   ...                 0   \n",
       "4  DISPONENT         Kolin  central Bohemia   ...                 0   \n",
       "5      OWNER       Pribram  central Bohemia   ...                 0   \n",
       "\n",
       "   LoanAmount  LoanDuration  LoanPayment                       LoanStatus  \\\n",
       "0         0.0           0.0          0.0                   Not Applicable   \n",
       "1     80952.0          24.0       3373.0  Contract finished without Issue   \n",
       "2     80952.0          24.0       3373.0  Contract finished without Issue   \n",
       "3         0.0           0.0          0.0                   Not Applicable   \n",
       "4         0.0           0.0          0.0                   Not Applicable   \n",
       "5         0.0           0.0          0.0                   Not Applicable   \n",
       "\n",
       "   LEASING  Other  POJISTNE    SIPO    UVER  \n",
       "0      0.0    0.0       0.0  2452.0     0.0  \n",
       "1      0.0    0.0       0.0  7266.0  3372.7  \n",
       "2      0.0    0.0       0.0  7266.0  3372.7  \n",
       "3      0.0  327.0    3539.0  1135.0     0.0  \n",
       "4      0.0  327.0    3539.0  1135.0     0.0  \n",
       "5      0.0    0.0       0.0  1681.5     0.0  \n",
       "\n",
       "[6 rows x 53 columns]"
      ]
     },
     "execution_count": 44,
     "metadata": {},
     "output_type": "execute_result"
    }
   ],
   "source": [
    "Client_Base_Table.head(6)"
   ]
  },
  {
   "cell_type": "markdown",
   "metadata": {},
   "source": [
    "## VISUALIZATION :"
   ]
  },
  {
   "cell_type": "code",
   "execution_count": 26,
   "metadata": {},
   "outputs": [
    {
     "data": {
      "image/png": "[encoded data removed]",
      "text/plain": [
       "<Figure size 432x288 with 1 Axes>"
      ]
     },
     "metadata": {},
     "output_type": "display_data"
    }
   ],
   "source": [
    "# Number of clients Yearly wise\n",
    "c3 = Client_Base_Table.groupby('account_created_year')['client_id'].agg('count')\n",
    "c3.plot.line()\n",
    "plt.ylabel('Number Of Clients')\n",
    "plt.show()\n"
   ]
  },
  {
   "cell_type": "code",
   "execution_count": 27,
   "metadata": {},
   "outputs": [
    {
     "name": "stdout",
     "output_type": "stream",
     "text": [
      "age_group\n",
      "10     21\n",
      "20    176\n",
      "30    188\n",
      "40    186\n",
      "50    190\n",
      "60     66\n",
      "Name: LoanStatus, dtype: int64\n"
     ]
    },
    {
     "data": {
      "image/png": "[encoded data removed]",
      "text/plain": [
       "<Figure size 432x288 with 1 Axes>"
      ]
     },
     "metadata": {},
     "output_type": "display_data"
    }
   ],
   "source": [
    "# Age Group that asked loan for the most\n",
    "t = Client_Base_Table[Client_Base_Table.LoanStatus != 'Not Applicable']\n",
    "t1 = t.groupby('age_group')['LoanStatus'].agg('count')\n",
    "t1.plot.bar()\n",
    "plt.ylabel('Number of time Loan asked')\n",
    "print(t1)\n",
    "plt.show()\n"
   ]
  },
  {
   "cell_type": "code",
   "execution_count": 28,
   "metadata": {},
   "outputs": [
    {
     "name": "stdout",
     "output_type": "stream",
     "text": [
      "LoanStatus  Contract Finished Loan Not Paid  Contract Running Debt  \\\n",
      "gender                                                               \n",
      "F                                        17                     24   \n",
      "M                                        14                     21   \n",
      "\n",
      "LoanStatus  Contract Running ok so far  Contract finished without Issue  \n",
      "gender                                                                   \n",
      "F                                  246                              130  \n",
      "M                                  247                              128  \n"
     ]
    },
    {
     "data": {
      "image/png": "[encoded data removed]",
      "text/plain": [
       "<Figure size 432x288 with 1 Axes>"
      ]
     },
     "metadata": {},
     "output_type": "display_data"
    }
   ],
   "source": [
    "# Loan status in each gender\n",
    "t2 = pd.pivot_table(t, values='client_id', index='gender', columns='LoanStatus', aggfunc='count', fill_value=0)\n",
    "t2.plot.bar()\n",
    "print(t2)\n",
    "plt.show()"
   ]
  },
  {
   "cell_type": "code",
   "execution_count": 29,
   "metadata": {},
   "outputs": [
    {
     "name": "stdout",
     "output_type": "stream",
     "text": [
      "LoanStatus  Contract Finished Loan Not Paid  Contract Running Debt  \\\n",
      "age_group                                                            \n",
      "10                                        0                      1   \n",
      "20                                        6                     11   \n",
      "30                                        4                     12   \n",
      "40                                        7                      9   \n",
      "50                                       10                      6   \n",
      "60                                        4                      6   \n",
      "\n",
      "LoanStatus  Contract Running ok so far  Contract finished without Issue  \n",
      "age_group                                                                \n",
      "10                                  13                                7  \n",
      "20                                 103                               56  \n",
      "30                                 115                               57  \n",
      "40                                 114                               56  \n",
      "50                                 113                               61  \n",
      "60                                  35                               21  \n"
     ]
    },
    {
     "data": {
      "image/png": "[encoded data removed]",
      "text/plain": [
       "<Figure size 432x288 with 1 Axes>"
      ]
     },
     "metadata": {},
     "output_type": "display_data"
    }
   ],
   "source": [
    "# loan status in each gender group\n",
    "t3=pd.pivot_table(t, values='client_id', index='age_group', columns='LoanStatus', aggfunc='count', fill_value=0)\n",
    "t3.plot.bar()\n",
    "print(t3)\n",
    "plt.show()"
   ]
  },
  {
   "cell_type": "code",
   "execution_count": 178,
   "metadata": {},
   "outputs": [
    {
     "name": "stdout",
     "output_type": "stream",
     "text": [
      "LoanStatus          Contract Finished Loan Not Paid  Contract Running Debt  \\\n",
      "length_of_relation                                                           \n",
      "2                                                 0                      5   \n",
      "3                                                 3                     20   \n",
      "4                                                 8                      9   \n",
      "5                                                 3                      4   \n",
      "6                                                17                      7   \n",
      "\n",
      "LoanStatus          Contract Running ok so far  \\\n",
      "length_of_relation                               \n",
      "2                                          130   \n",
      "3                                          213   \n",
      "4                                           82   \n",
      "5                                           39   \n",
      "6                                           29   \n",
      "\n",
      "LoanStatus          Contract finished without Issue  \n",
      "length_of_relation                                   \n",
      "2                                                 8  \n",
      "3                                                53  \n",
      "4                                                32  \n",
      "5                                                34  \n",
      "6                                               131  \n"
     ]
    },
    {
     "data": {
      "image/png": "[encoded data removed]",
      "text/plain": [
       "<Figure size 432x288 with 1 Axes>"
      ]
     },
     "metadata": {},
     "output_type": "display_data"
    }
   ],
   "source": [
    "# loan status in each group of Length of relationship\n",
    "t4 = pd.pivot_table(t, values='client_id', index='length_of_relation', columns='LoanStatus', aggfunc='count', fill_value=0)\n",
    "t4.plot.bar()\n",
    "print(t4)\n",
    "plt.show()"
   ]
  },
  {
   "cell_type": "code",
   "execution_count": 179,
   "metadata": {},
   "outputs": [
    {
     "name": "stdout",
     "output_type": "stream",
     "text": [
      "credit_card_type\n",
      "classic    49240.645436\n",
      "gold       56839.396313\n",
      "junior     45932.232929\n",
      "Name: Avg_Monthly_Balance, dtype: float64\n"
     ]
    },
    {
     "data": {
      "image/png": "[encoded data removed]",
      "text/plain": [
       "<Figure size 432x288 with 1 Axes>"
      ]
     },
     "metadata": {},
     "output_type": "display_data"
    }
   ],
   "source": [
    "# Average monthly balance vs credit card\n",
    "c = Client_Base_Table[Client_Base_Table.credit_card_type != 'Not Applicable']\n",
    "c1 = c.groupby('credit_card_type')['Avg_Monthly_Balance'].agg('mean')\n",
    "c1.plot.bar()\n",
    "plt.ylabel('Avg Monthly Balance')\n",
    "print(c1)\n",
    "plt.show()\n"
   ]
  },
  {
   "cell_type": "code",
   "execution_count": 180,
   "metadata": {},
   "outputs": [
    {
     "name": "stdout",
     "output_type": "stream",
     "text": [
      "region\n",
      "Prague             1287.563395\n",
      "central Bohemia    1304.344262\n",
      "east Bohemia       1309.064818\n",
      "north Bohemia      1250.967951\n",
      "north Moravia      1264.243609\n",
      "south Bohemia      1254.348071\n",
      "south Moravia      1271.920807\n",
      "west Bohemia       1218.366009\n",
      "Name: Avg_Monthly_Savings, dtype: float64\n"
     ]
    },
    {
     "data": {
      "image/png": "[encoded data removed]",
      "text/plain": [
       "<Figure size 432x288 with 1 Axes>"
      ]
     },
     "metadata": {},
     "output_type": "display_data"
    }
   ],
   "source": [
    "# Average monthly savings of clients in each region\n",
    "\n",
    "c2 = Client_Base_Table.groupby('region')['Avg_Monthly_Savings'].agg('mean')\n",
    "c2.plot.bar()\n",
    "plt.ylabel('Avg Monthly Savings')\n",
    "print(c2)\n",
    "plt.show()\n"
   ]
  },
  {
   "cell_type": "code",
   "execution_count": 181,
   "metadata": {},
   "outputs": [
    {
     "data": {
      "image/png": "[encoded data removed]",
      "text/plain": [
       "<Figure size 432x288 with 1 Axes>"
      ]
     },
     "metadata": {},
     "output_type": "display_data"
    }
   ],
   "source": [
    "# Number of credit card issued Yearly wise\n",
    "c5 = Client_Base_Table[Client_Base_Table.credit_card_issue__year != 0]\n",
    "c4 =c5.groupby('credit_card_issue__year')['client_id'].agg('count')\n",
    "c4.plot.line()\n",
    "plt.ylabel('Number Of credit cards issued')\n",
    "plt.show()\n"
   ]
  },
  {
   "cell_type": "code",
   "execution_count": 182,
   "metadata": {},
   "outputs": [
    {
     "data": {
      "image/png": "[encoded data removed]",
      "text/plain": [
       "<Figure size 432x288 with 1 Axes>"
      ]
     },
     "metadata": {},
     "output_type": "display_data"
    }
   ],
   "source": [
    "another_bank = round(sum(Client_Base_Table['Collection from another Bank']),2)\n",
    "CreditCardWithdrawal = round(sum(Client_Base_Table['Credit Card Withdrawal']),2)\n",
    "Credit_In_Cash = round(sum(Client_Base_Table['Credit In Cash']),2)\n",
    "Other_Transactions = round(sum(Client_Base_Table['Other_Transactions']),2)\n",
    "RemittanceotherBank = round(sum(Client_Base_Table['Remittance to another Bank']),2)\n",
    "WithdrawalInCash = round(sum(Client_Base_Table['Withdrawal In Cash']),2)\n",
    "\n",
    "labels = 'Coll_from_Other_Banks', 'CC Withdrawals', 'Credit_In_Cash', 'Other_Transactions', 'RemittanceOtherBank','WithdrawalInCash'\n",
    "sizes = [another_bank, CreditCardWithdrawal, Credit_In_Cash, Other_Transactions,RemittanceotherBank,WithdrawalInCash]\n",
    "colors = ['yellowgreen', 'red', 'lightskyblue', 'black','gold', 'pink']\n",
    "explode = (0, 0.1, 0, 0.1, 0, 0.1)  # explode 1st slice\n",
    " \n",
    "# Plot\n",
    "plt.pie(sizes, explode=explode, labels=labels, colors=colors,\n",
    "        autopct='%1.1f%%', shadow=True, startangle=140)\n",
    " \n",
    "plt.axis('equal')\n",
    "plt.show()\n"
   ]
  },
  {
   "cell_type": "code",
   "execution_count": 183,
   "metadata": {},
   "outputs": [
    {
     "name": "stderr",
     "output_type": "stream",
     "text": [
      "C:\\ProgramData\\Anaconda3\\lib\\site-packages\\matplotlib\\axes\\_axes.py:6462: UserWarning: The 'normed' kwarg is deprecated, and has been replaced by the 'density' kwarg.\n",
      "  warnings.warn(\"The 'normed' kwarg is deprecated, and has been \"\n"
     ]
    },
    {
     "data": {
      "text/plain": [
       "<matplotlib.axes._subplots.AxesSubplot at 0x228a191af60>"
      ]
     },
     "execution_count": 183,
     "metadata": {},
     "output_type": "execute_result"
    },
    {
     "data": {
      "image/png": "[encoded data removed]",
      "text/plain": [
       "<Figure size 432x288 with 1 Axes>"
      ]
     },
     "metadata": {},
     "output_type": "display_data"
    }
   ],
   "source": [
    "####################################################################\n",
    "\n",
    "import seaborn\n",
    "seaborn.distplot(Client_Base_Table['Avg_Monthly_Savings'], bins=20)\n",
    "\n"
   ]
  },
  {
   "cell_type": "code",
   "execution_count": 184,
   "metadata": {},
   "outputs": [
    {
     "name": "stderr",
     "output_type": "stream",
     "text": [
      "C:\\ProgramData\\Anaconda3\\lib\\site-packages\\matplotlib\\axes\\_axes.py:6462: UserWarning: The 'normed' kwarg is deprecated, and has been replaced by the 'density' kwarg.\n",
      "  warnings.warn(\"The 'normed' kwarg is deprecated, and has been \"\n"
     ]
    },
    {
     "data": {
      "text/plain": [
       "<matplotlib.axes._subplots.AxesSubplot at 0x228b4d6b160>"
      ]
     },
     "execution_count": 184,
     "metadata": {},
     "output_type": "execute_result"
    },
    {
     "data": {
      "image/png": "[encoded data removed]",
      "text/plain": [
       "<Figure size 432x288 with 1 Axes>"
      ]
     },
     "metadata": {},
     "output_type": "display_data"
    }
   ],
   "source": [
    "seaborn.distplot(Client_Base_Table['Avg_Monthly_Credit'], bins=20)\n"
   ]
  },
  {
   "cell_type": "code",
   "execution_count": 185,
   "metadata": {},
   "outputs": [
    {
     "name": "stderr",
     "output_type": "stream",
     "text": [
      "C:\\ProgramData\\Anaconda3\\lib\\site-packages\\matplotlib\\axes\\_axes.py:6462: UserWarning: The 'normed' kwarg is deprecated, and has been replaced by the 'density' kwarg.\n",
      "  warnings.warn(\"The 'normed' kwarg is deprecated, and has been \"\n"
     ]
    },
    {
     "data": {
      "text/plain": [
       "<matplotlib.axes._subplots.AxesSubplot at 0x228a0951b38>"
      ]
     },
     "execution_count": 185,
     "metadata": {},
     "output_type": "execute_result"
    },
    {
     "data": {
      "image/png": "[encoded data removed]",
      "text/plain": [
       "<Figure size 432x288 with 1 Axes>"
      ]
     },
     "metadata": {},
     "output_type": "display_data"
    }
   ],
   "source": [
    "seaborn.distplot(Client_Base_Table['Avg_Monthly_Debit'], bins=20)\n"
   ]
  },
  {
   "cell_type": "code",
   "execution_count": 186,
   "metadata": {},
   "outputs": [
    {
     "name": "stdout",
     "output_type": "stream",
     "text": [
      "       Avg_Monthly_Credit  Avg_Monthly_Debit  Avg_Monthly_Balance  \\\n",
      "count         5369.000000        5369.000000          5369.000000   \n",
      "mean         17205.870248       15933.553315         35394.971856   \n",
      "std          13361.537675       13024.033238         15283.644308   \n",
      "min            934.693878         107.692308          5522.857576   \n",
      "25%           5991.533333        5065.007143         22566.629032   \n",
      "50%          14193.927778       12835.013333         33405.089706   \n",
      "75%          24302.075000       22591.946667         45773.985714   \n",
      "max          75197.181250       72330.918750         93869.350000   \n",
      "\n",
      "       Balance_Median_per_Month  Avg_Monthly_Savings     LoanAmount  \n",
      "count               5369.000000          5369.000000    5369.000000  \n",
      "mean               35004.949246          1272.316934   23382.356491  \n",
      "std                15582.976742           945.971919   70875.633343  \n",
      "min                  358.500000          -430.677500       0.000000  \n",
      "25%                22346.400000           607.570313       0.000000  \n",
      "50%                32453.400000          1029.896000       0.000000  \n",
      "75%                44679.800000          1643.493443       0.000000  \n",
      "max               102374.250000          7025.618750  590820.000000  \n"
     ]
    }
   ],
   "source": [
    "new = Client_Base_Table[['Avg_Monthly_Credit', 'Avg_Monthly_Debit', 'Avg_Monthly_Balance','Balance_Median_per_Month','Avg_Monthly_Savings','LoanAmount']].copy()\n",
    "\n",
    "\n",
    "new = new.describe()\n",
    "print(new)\n"
   ]
  },
  {
   "cell_type": "code",
   "execution_count": 187,
   "metadata": {},
   "outputs": [
    {
     "data": {
      "image/png": "[encoded data removed]",
      "text/plain": [
       "<Figure size 432x288 with 1 Axes>"
      ]
     },
     "metadata": {},
     "output_type": "display_data"
    }
   ],
   "source": [
    "LEASING = round(sum(Client_Base_Table['LEASING']),2)\n",
    "Other = round(sum(Client_Base_Table['Other']),2)\n",
    "POJISTNE = round(sum(Client_Base_Table['POJISTNE']),2)\n",
    "SIPO = round(sum(Client_Base_Table['SIPO']),2)\n",
    "UVER = round(sum(Client_Base_Table['UVER']),2)\n",
    "\n",
    "labels = 'LEASING', 'Other', 'POJISTNE', 'SIPO', 'UVER'\n",
    "sizes = [LEASING, Other, POJISTNE, SIPO,UVER]\n",
    "colors = ['yellowgreen', 'red', 'lightskyblue', 'pink','gold']\n",
    "explode = (0, 0.1, 0, 0.1, 0)  # explode 1st slice\n",
    " \n",
    "# Plot\n",
    "plt.pie(sizes, explode=explode, labels=labels, colors=colors,\n",
    "        autopct='%1.1f%%', shadow=True, startangle=140)\n",
    " \n",
    "plt.axis('equal')\n",
    "plt.show()\n"
   ]
  }
 ],
 "metadata": {
  "kernelspec": {
   "display_name": "Python 3",
   "language": "python",
   "name": "python3"
  },
  "language_info": {
   "codemirror_mode": {
    "name": "ipython",
    "version": 3
   },
   "file_extension": ".py",
   "mimetype": "text/x-python",
   "name": "python",
   "nbconvert_exporter": "python",
   "pygments_lexer": "ipython3",
   "version": "3.6.5"
  }
 },
 "nbformat": 4,
 "nbformat_minor": 2
}
